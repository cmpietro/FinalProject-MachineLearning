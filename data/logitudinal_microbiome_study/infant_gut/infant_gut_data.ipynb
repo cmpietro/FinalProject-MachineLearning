{
 "cells": [
  {
   "cell_type": "code",
   "execution_count": 2,
   "metadata": {},
   "outputs": [],
   "source": [
    "#Import Dependencies\n",
    "\n",
    "import pandas as pd\n",
    "import numpy as np\n",
    "from datetime import datetime \n"
   ]
  },
  {
   "cell_type": "code",
   "execution_count": 14,
   "metadata": {},
   "outputs": [
    {
     "name": "stdout",
     "output_type": "stream",
     "text": [
      "['<!DOCTYPE html>']\n",
      "                                         <!DOCTYPE html>\n",
      "39830                                             </div>\n",
      "39831                                             </div>\n",
      "39832    <div id=\"ajax-error-message\" class=\"ajax-err...\n",
      "39833      <svg class=\"octicon octicon-alert\" viewBox...\n",
      "39834      <button type=\"button\" class=\"flash-close j...\n",
      "39835        <svg class=\"octicon octicon-x\" viewBox=\"...\n",
      "39836                                          </button>\n",
      "39837        You can’t perform that action at this time.\n",
      "39838                                             </div>\n",
      "39839      <script crossorigin=\"anonymous\" integrity=...\n",
      "39840      <script crossorigin=\"anonymous\" async=\"asy...\n",
      "39841    <div class=\"js-stale-session-flash flash fla...\n",
      "39842                                                  >\n",
      "39843      <svg class=\"octicon octicon-alert\" viewBox...\n",
      "39844      <span class=\"js-stale-session-flash-signed...\n",
      "39845      <span class=\"js-stale-session-flash-signed...\n",
      "39846                                             </div>\n",
      "39847                <template id=\"site-details-dialog\">\n",
      "39848    <details class=\"details-reset details-overla...\n",
      "39849      <summary role=\"button\" aria-label=\"Close d...\n",
      "39850      <details-dialog class=\"Box Box--overlay d-...\n",
      "39851        <button class=\"Box-btn-octicon m-0 btn-o...\n",
      "39852          <svg class=\"octicon octicon-x\" viewBox...\n",
      "39853                                          </button>\n",
      "39854        <div class=\"octocat-spinner my-6 js-deta...\n",
      "39855                                  </details-dialog>\n",
      "39856                                         </details>\n",
      "39857                                        </template>\n",
      "39858    <div class=\"Popover js-hovercard-content pos...\n",
      "39859    <div class=\"Popover-message Popover-message-...\n",
      "39860                                             </div>\n",
      "39861                                             </div>\n",
      "39862    <div aria-live=\"polite\" class=\"js-global-scr...\n",
      "39863                                            </body>\n",
      "39864                                            </html>\n"
     ]
    }
   ],
   "source": [
    "# Import Data\n",
    "\n",
    "infantGutFsr1d=pd.read_csv('infant_gut_microbiota_alignment_filtered_sr1d.tsv',delimiter='\\t',encoding='utf-8')\n",
    "print(list(infantGutFsr1d.columns.values)) #file header\n",
    "print(infantGutFsr1d.tail(35)) #last N rows\n"
   ]
  },
  {
   "cell_type": "code",
   "execution_count": 15,
   "metadata": {},
   "outputs": [
    {
     "name": "stdout",
     "output_type": "stream",
     "text": [
      "<class 'pandas.core.frame.DataFrame'>\n",
      "RangeIndex: 39865 entries, 0 to 39864\n",
      "Data columns (total 1 columns):\n",
      "<!DOCTYPE html>    39865 non-null object\n",
      "dtypes: object(1)\n",
      "memory usage: 311.5+ KB\n"
     ]
    }
   ],
   "source": [
    "infantGutFsr1d.info()"
   ]
  },
  {
   "cell_type": "code",
   "execution_count": 17,
   "metadata": {},
   "outputs": [
    {
     "data": {
      "text/plain": [
       "(39865, 1)"
      ]
     },
     "execution_count": 17,
     "metadata": {},
     "output_type": "execute_result"
    }
   ],
   "source": [
    "infantGutFsr1d.shape"
   ]
  },
  {
   "cell_type": "code",
   "execution_count": 18,
   "metadata": {},
   "outputs": [
    {
     "data": {
      "text/html": [
       "<div>\n",
       "<style scoped>\n",
       "    .dataframe tbody tr th:only-of-type {\n",
       "        vertical-align: middle;\n",
       "    }\n",
       "\n",
       "    .dataframe tbody tr th {\n",
       "        vertical-align: top;\n",
       "    }\n",
       "\n",
       "    .dataframe thead th {\n",
       "        text-align: right;\n",
       "    }\n",
       "</style>\n",
       "<table border=\"1\" class=\"dataframe\">\n",
       "  <thead>\n",
       "    <tr style=\"text-align: right;\">\n",
       "      <th></th>\n",
       "      <th>&lt;!DOCTYPE html&gt;</th>\n",
       "    </tr>\n",
       "  </thead>\n",
       "  <tbody>\n",
       "    <tr>\n",
       "      <th>count</th>\n",
       "      <td>39865</td>\n",
       "    </tr>\n",
       "    <tr>\n",
       "      <th>unique</th>\n",
       "      <td>16572</td>\n",
       "    </tr>\n",
       "    <tr>\n",
       "      <th>top</th>\n",
       "      <td>&lt;td&gt;0&lt;/td&gt;</td>\n",
       "    </tr>\n",
       "    <tr>\n",
       "      <th>freq</th>\n",
       "      <td>9825</td>\n",
       "    </tr>\n",
       "  </tbody>\n",
       "</table>\n",
       "</div>"
      ],
      "text/plain": [
       "                 <!DOCTYPE html>\n",
       "count                      39865\n",
       "unique                     16572\n",
       "top                   <td>0</td>\n",
       "freq                        9825"
      ]
     },
     "execution_count": 18,
     "metadata": {},
     "output_type": "execute_result"
    }
   ],
   "source": [
    "infantGutFsr1d.describe()"
   ]
  },
  {
   "cell_type": "code",
   "execution_count": null,
   "metadata": {},
   "outputs": [],
   "source": []
  },
  {
   "cell_type": "code",
   "execution_count": null,
   "metadata": {},
   "outputs": [],
   "source": []
  }
 ],
 "metadata": {
  "kernelspec": {
   "display_name": "Python 3",
   "language": "python",
   "name": "python3"
  },
  "language_info": {
   "codemirror_mode": {
    "name": "ipython",
    "version": 3
   },
   "file_extension": ".py",
   "mimetype": "text/x-python",
   "name": "python",
   "nbconvert_exporter": "python",
   "pygments_lexer": "ipython3",
   "version": "3.7.3"
  }
 },
 "nbformat": 4,
 "nbformat_minor": 2
}
