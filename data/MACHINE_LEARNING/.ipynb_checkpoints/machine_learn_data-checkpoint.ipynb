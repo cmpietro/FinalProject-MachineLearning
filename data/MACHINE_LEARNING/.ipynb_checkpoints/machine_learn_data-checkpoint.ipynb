{
 "cells": [
  {
   "cell_type": "code",
   "execution_count": 1,
   "metadata": {},
   "outputs": [],
   "source": [
    "# Dependencies\n",
    "import requests\n",
    "import json\n",
    "import pandas as pd\n",
    "import numpy as np"
   ]
  },
  {
   "cell_type": "code",
   "execution_count": 4,
   "metadata": {
    "scrolled": true
   },
   "outputs": [
    {
     "data": {
      "text/html": [
       "<div>\n",
       "<style scoped>\n",
       "    .dataframe tbody tr th:only-of-type {\n",
       "        vertical-align: middle;\n",
       "    }\n",
       "\n",
       "    .dataframe tbody tr th {\n",
       "        vertical-align: top;\n",
       "    }\n",
       "\n",
       "    .dataframe thead th {\n",
       "        text-align: right;\n",
       "    }\n",
       "</style>\n",
       "<table border=\"1\" class=\"dataframe\">\n",
       "  <thead>\n",
       "    <tr style=\"text-align: right;\">\n",
       "      <th></th>\n",
       "      <th>Mother_Education_Code</th>\n",
       "      <th>Mother_Weight_Gain_Code</th>\n",
       "      <th>Pre-pregnancy_Diabetes_Code</th>\n",
       "      <th>Pre-pregnancy_Hypertension_Code</th>\n",
       "      <th>Five_min_APGAR_score_code</th>\n",
       "      <th>Average_Age_Mother_years</th>\n",
       "      <th>Average_Birth_Weight_grams</th>\n",
       "      <th>Average_Prenatal_Visits</th>\n",
       "      <th>Average_OE_Gestational_Age_weeks</th>\n",
       "      <th>Average_Pre-pregnancy_BMI</th>\n",
       "      <th>Births</th>\n",
       "    </tr>\n",
       "  </thead>\n",
       "  <tbody>\n",
       "    <tr>\n",
       "      <td>0</td>\n",
       "      <td>1.0</td>\n",
       "      <td>0</td>\n",
       "      <td>1</td>\n",
       "      <td>1</td>\n",
       "      <td>3</td>\n",
       "      <td>36.00</td>\n",
       "      <td>830.00</td>\n",
       "      <td>3.00</td>\n",
       "      <td>24.00</td>\n",
       "      <td>45.20</td>\n",
       "      <td>1</td>\n",
       "    </tr>\n",
       "    <tr>\n",
       "      <td>1</td>\n",
       "      <td>1.0</td>\n",
       "      <td>0</td>\n",
       "      <td>1</td>\n",
       "      <td>1</td>\n",
       "      <td>6</td>\n",
       "      <td>39.00</td>\n",
       "      <td>791.00</td>\n",
       "      <td>0.00</td>\n",
       "      <td>23.00</td>\n",
       "      <td>32.40</td>\n",
       "      <td>1</td>\n",
       "    </tr>\n",
       "    <tr>\n",
       "      <td>2</td>\n",
       "      <td>1.0</td>\n",
       "      <td>0</td>\n",
       "      <td>1</td>\n",
       "      <td>1</td>\n",
       "      <td>7</td>\n",
       "      <td>36.00</td>\n",
       "      <td>3560.00</td>\n",
       "      <td>20.00</td>\n",
       "      <td>37.00</td>\n",
       "      <td>38.60</td>\n",
       "      <td>1</td>\n",
       "    </tr>\n",
       "    <tr>\n",
       "      <td>3</td>\n",
       "      <td>1.0</td>\n",
       "      <td>0</td>\n",
       "      <td>1</td>\n",
       "      <td>1</td>\n",
       "      <td>8</td>\n",
       "      <td>35.17</td>\n",
       "      <td>2890.83</td>\n",
       "      <td>9.33</td>\n",
       "      <td>36.67</td>\n",
       "      <td>37.95</td>\n",
       "      <td>6</td>\n",
       "    </tr>\n",
       "    <tr>\n",
       "      <td>4</td>\n",
       "      <td>1.0</td>\n",
       "      <td>0</td>\n",
       "      <td>1</td>\n",
       "      <td>1</td>\n",
       "      <td>9</td>\n",
       "      <td>36.04</td>\n",
       "      <td>3041.73</td>\n",
       "      <td>15.58</td>\n",
       "      <td>38.08</td>\n",
       "      <td>39.78</td>\n",
       "      <td>26</td>\n",
       "    </tr>\n",
       "  </tbody>\n",
       "</table>\n",
       "</div>"
      ],
      "text/plain": [
       "   Mother_Education_Code  Mother_Weight_Gain_Code  \\\n",
       "0                    1.0                        0   \n",
       "1                    1.0                        0   \n",
       "2                    1.0                        0   \n",
       "3                    1.0                        0   \n",
       "4                    1.0                        0   \n",
       "\n",
       "   Pre-pregnancy_Diabetes_Code  Pre-pregnancy_Hypertension_Code  \\\n",
       "0                            1                                1   \n",
       "1                            1                                1   \n",
       "2                            1                                1   \n",
       "3                            1                                1   \n",
       "4                            1                                1   \n",
       "\n",
       "   Five_min_APGAR_score_code  Average_Age_Mother_years  \\\n",
       "0                          3                     36.00   \n",
       "1                          6                     39.00   \n",
       "2                          7                     36.00   \n",
       "3                          8                     35.17   \n",
       "4                          9                     36.04   \n",
       "\n",
       "   Average_Birth_Weight_grams  Average_Prenatal_Visits  \\\n",
       "0                      830.00                     3.00   \n",
       "1                      791.00                     0.00   \n",
       "2                     3560.00                    20.00   \n",
       "3                     2890.83                     9.33   \n",
       "4                     3041.73                    15.58   \n",
       "\n",
       "   Average_OE_Gestational_Age_weeks  Average_Pre-pregnancy_BMI  Births  \n",
       "0                             24.00                      45.20       1  \n",
       "1                             23.00                      32.40       1  \n",
       "2                             37.00                      38.60       1  \n",
       "3                             36.67                      37.95       6  \n",
       "4                             38.08                      39.78      26  "
      ]
     },
     "execution_count": 4,
     "metadata": {},
     "output_type": "execute_result"
    }
   ],
   "source": [
    "q1 = pd.read_csv('machine_learn_data/Q1_maternal_char_v6.csv')\n",
    "q1.head()"
   ]
  },
  {
   "cell_type": "code",
   "execution_count": 6,
   "metadata": {},
   "outputs": [
    {
     "data": {
      "text/plain": [
       "Mother_Education_Code               21797\n",
       "Mother_Weight_Gain_Code             23403\n",
       "Pre-pregnancy_Diabetes_Code         23403\n",
       "Pre-pregnancy_Hypertension_Code     23403\n",
       "Five_min_APGAR_score_code           23403\n",
       "Average_Age_Mother_years            23403\n",
       "Average_Birth_Weight_grams          23403\n",
       "Average_Prenatal_Visits             23038\n",
       "Average_OE_Gestational_Age_weeks    23374\n",
       "Average_Pre-pregnancy_BMI           23289\n",
       "Births                              23403\n",
       "dtype: int64"
      ]
     },
     "execution_count": 6,
     "metadata": {},
     "output_type": "execute_result"
    }
   ],
   "source": [
    "#list(q1)\n",
    "q1.count()"
   ]
  },
  {
   "cell_type": "code",
   "execution_count": 7,
   "metadata": {},
   "outputs": [
    {
     "data": {
      "text/plain": [
       "Mother_Education_Code               21423\n",
       "Mother_Weight_Gain_Code             21423\n",
       "Pre-pregnancy_Diabetes_Code         21423\n",
       "Pre-pregnancy_Hypertension_Code     21423\n",
       "Five_min_APGAR_score_code           21423\n",
       "Average_Age_Mother_years            21423\n",
       "Average_Birth_Weight_grams          21423\n",
       "Average_Prenatal_Visits             21423\n",
       "Average_OE_Gestational_Age_weeks    21423\n",
       "Average_Pre-pregnancy_BMI           21423\n",
       "Births                              21423\n",
       "dtype: int64"
      ]
     },
     "execution_count": 7,
     "metadata": {},
     "output_type": "execute_result"
    }
   ],
   "source": [
    "clean_q1 = q1.dropna()\n",
    "clean_q1.count()"
   ]
  },
  {
   "cell_type": "code",
   "execution_count": 8,
   "metadata": {},
   "outputs": [],
   "source": [
    "clean_q1.to_csv(\"machine_learn_data/final_clean_data/Q1_maternal_char_v7.csv\", index=False)"
   ]
  },
  {
   "cell_type": "code",
   "execution_count": 9,
   "metadata": {},
   "outputs": [
    {
     "data": {
      "text/html": [
       "<div>\n",
       "<style scoped>\n",
       "    .dataframe tbody tr th:only-of-type {\n",
       "        vertical-align: middle;\n",
       "    }\n",
       "\n",
       "    .dataframe tbody tr th {\n",
       "        vertical-align: top;\n",
       "    }\n",
       "\n",
       "    .dataframe thead th {\n",
       "        text-align: right;\n",
       "    }\n",
       "</style>\n",
       "<table border=\"1\" class=\"dataframe\">\n",
       "  <thead>\n",
       "    <tr style=\"text-align: right;\">\n",
       "      <th></th>\n",
       "      <th>Anesthesia_code</th>\n",
       "      <th>Antibiotics_for_Mother_code</th>\n",
       "      <th>Induction_of_Labor_Code</th>\n",
       "      <th>Steroids_Code</th>\n",
       "      <th>Five_min_APGAR_score_code</th>\n",
       "      <th>Average_Age_Mother_years</th>\n",
       "      <th>Average_Birth_Weight_grams</th>\n",
       "      <th>Average_Prenatal_Visits</th>\n",
       "      <th>Average_OE_Gestational_Age_weeks</th>\n",
       "      <th>Average_Pre-pregnancy_BMI</th>\n",
       "      <th>Births</th>\n",
       "    </tr>\n",
       "  </thead>\n",
       "  <tbody>\n",
       "    <tr>\n",
       "      <td>0</td>\n",
       "      <td>1</td>\n",
       "      <td>1</td>\n",
       "      <td>1</td>\n",
       "      <td>1</td>\n",
       "      <td>0</td>\n",
       "      <td>27.65</td>\n",
       "      <td>2307.88</td>\n",
       "      <td>10.31</td>\n",
       "      <td>32.65</td>\n",
       "      <td>29.29</td>\n",
       "      <td>17</td>\n",
       "    </tr>\n",
       "    <tr>\n",
       "      <td>1</td>\n",
       "      <td>1</td>\n",
       "      <td>1</td>\n",
       "      <td>1</td>\n",
       "      <td>1</td>\n",
       "      <td>1</td>\n",
       "      <td>29.14</td>\n",
       "      <td>1540.01</td>\n",
       "      <td>8.30</td>\n",
       "      <td>29.83</td>\n",
       "      <td>29.40</td>\n",
       "      <td>110</td>\n",
       "    </tr>\n",
       "    <tr>\n",
       "      <td>2</td>\n",
       "      <td>1</td>\n",
       "      <td>1</td>\n",
       "      <td>1</td>\n",
       "      <td>1</td>\n",
       "      <td>2</td>\n",
       "      <td>28.78</td>\n",
       "      <td>1804.33</td>\n",
       "      <td>8.59</td>\n",
       "      <td>31.30</td>\n",
       "      <td>30.42</td>\n",
       "      <td>115</td>\n",
       "    </tr>\n",
       "    <tr>\n",
       "      <td>3</td>\n",
       "      <td>1</td>\n",
       "      <td>1</td>\n",
       "      <td>1</td>\n",
       "      <td>1</td>\n",
       "      <td>3</td>\n",
       "      <td>27.79</td>\n",
       "      <td>1887.41</td>\n",
       "      <td>9.33</td>\n",
       "      <td>32.37</td>\n",
       "      <td>29.38</td>\n",
       "      <td>141</td>\n",
       "    </tr>\n",
       "    <tr>\n",
       "      <td>4</td>\n",
       "      <td>1</td>\n",
       "      <td>1</td>\n",
       "      <td>1</td>\n",
       "      <td>1</td>\n",
       "      <td>4</td>\n",
       "      <td>27.58</td>\n",
       "      <td>2000.79</td>\n",
       "      <td>9.38</td>\n",
       "      <td>32.79</td>\n",
       "      <td>30.10</td>\n",
       "      <td>244</td>\n",
       "    </tr>\n",
       "  </tbody>\n",
       "</table>\n",
       "</div>"
      ],
      "text/plain": [
       "   Anesthesia_code  Antibiotics_for_Mother_code  Induction_of_Labor_Code  \\\n",
       "0                1                            1                        1   \n",
       "1                1                            1                        1   \n",
       "2                1                            1                        1   \n",
       "3                1                            1                        1   \n",
       "4                1                            1                        1   \n",
       "\n",
       "   Steroids_Code  Five_min_APGAR_score_code  Average_Age_Mother_years  \\\n",
       "0              1                          0                     27.65   \n",
       "1              1                          1                     29.14   \n",
       "2              1                          2                     28.78   \n",
       "3              1                          3                     27.79   \n",
       "4              1                          4                     27.58   \n",
       "\n",
       "   Average_Birth_Weight_grams  Average_Prenatal_Visits  \\\n",
       "0                     2307.88                    10.31   \n",
       "1                     1540.01                     8.30   \n",
       "2                     1804.33                     8.59   \n",
       "3                     1887.41                     9.33   \n",
       "4                     2000.79                     9.38   \n",
       "\n",
       "   Average_OE_Gestational_Age_weeks  Average_Pre-pregnancy_BMI  Births  \n",
       "0                             32.65                      29.29      17  \n",
       "1                             29.83                      29.40     110  \n",
       "2                             31.30                      30.42     115  \n",
       "3                             32.37                      29.38     141  \n",
       "4                             32.79                      30.10     244  "
      ]
     },
     "execution_count": 9,
     "metadata": {},
     "output_type": "execute_result"
    }
   ],
   "source": [
    "q2 = pd.read_csv('machine_learn_data/Q2_labor_char_v6.csv')\n",
    "q2.head()"
   ]
  },
  {
   "cell_type": "code",
   "execution_count": 10,
   "metadata": {},
   "outputs": [
    {
     "data": {
      "text/plain": [
       "Anesthesia_code                     250\n",
       "Antibiotics_for_Mother_code         250\n",
       "Induction_of_Labor_Code             250\n",
       "Steroids_Code                       250\n",
       "Five_min_APGAR_score_code           250\n",
       "Average_Age_Mother_years            250\n",
       "Average_Birth_Weight_grams          250\n",
       "Average_Prenatal_Visits             249\n",
       "Average_OE_Gestational_Age_weeks    250\n",
       "Average_Pre-pregnancy_BMI           250\n",
       "Births                              250\n",
       "dtype: int64"
      ]
     },
     "execution_count": 10,
     "metadata": {},
     "output_type": "execute_result"
    }
   ],
   "source": [
    "q2.count()"
   ]
  },
  {
   "cell_type": "code",
   "execution_count": 11,
   "metadata": {},
   "outputs": [
    {
     "data": {
      "text/plain": [
       "Anesthesia_code                     249\n",
       "Antibiotics_for_Mother_code         249\n",
       "Induction_of_Labor_Code             249\n",
       "Steroids_Code                       249\n",
       "Five_min_APGAR_score_code           249\n",
       "Average_Age_Mother_years            249\n",
       "Average_Birth_Weight_grams          249\n",
       "Average_Prenatal_Visits             249\n",
       "Average_OE_Gestational_Age_weeks    249\n",
       "Average_Pre-pregnancy_BMI           249\n",
       "Births                              249\n",
       "dtype: int64"
      ]
     },
     "execution_count": 11,
     "metadata": {},
     "output_type": "execute_result"
    }
   ],
   "source": [
    "clean_q2 = q2.dropna()\n",
    "clean_q2.count()"
   ]
  },
  {
   "cell_type": "code",
   "execution_count": 12,
   "metadata": {},
   "outputs": [],
   "source": [
    "clean_q2.to_csv(\"machine_learn_data/final_clean_data/Q2_labor_char_v7.csv\", index=False)"
   ]
  },
  {
   "cell_type": "code",
   "execution_count": 13,
   "metadata": {},
   "outputs": [
    {
     "data": {
      "text/html": [
       "<div>\n",
       "<style scoped>\n",
       "    .dataframe tbody tr th:only-of-type {\n",
       "        vertical-align: middle;\n",
       "    }\n",
       "\n",
       "    .dataframe tbody tr th {\n",
       "        vertical-align: top;\n",
       "    }\n",
       "\n",
       "    .dataframe thead th {\n",
       "        text-align: right;\n",
       "    }\n",
       "</style>\n",
       "<table border=\"1\" class=\"dataframe\">\n",
       "  <thead>\n",
       "    <tr style=\"text-align: right;\">\n",
       "      <th></th>\n",
       "      <th>Month_code</th>\n",
       "      <th>Birthplace_code</th>\n",
       "      <th>Delivery_method_code</th>\n",
       "      <th>Fetal_presentation_code</th>\n",
       "      <th>Five_min_APGAR_score_code</th>\n",
       "      <th>Average_Age_Mother_years</th>\n",
       "      <th>Average_Birth_Weight_grams</th>\n",
       "      <th>Average_Prenatal_Visits</th>\n",
       "      <th>Average_OE_Gestational_Age_weeks</th>\n",
       "      <th>Average_Pre-pregnancy_BMI</th>\n",
       "      <th>Births</th>\n",
       "    </tr>\n",
       "  </thead>\n",
       "  <tbody>\n",
       "    <tr>\n",
       "      <td>0</td>\n",
       "      <td>1</td>\n",
       "      <td>1</td>\n",
       "      <td>1</td>\n",
       "      <td>1</td>\n",
       "      <td>0</td>\n",
       "      <td>27.78</td>\n",
       "      <td>1948.11</td>\n",
       "      <td>8.06</td>\n",
       "      <td>30.03</td>\n",
       "      <td>27.83</td>\n",
       "      <td>172</td>\n",
       "    </tr>\n",
       "    <tr>\n",
       "      <td>1</td>\n",
       "      <td>1</td>\n",
       "      <td>1</td>\n",
       "      <td>1</td>\n",
       "      <td>1</td>\n",
       "      <td>1</td>\n",
       "      <td>27.87</td>\n",
       "      <td>1354.81</td>\n",
       "      <td>6.65</td>\n",
       "      <td>26.65</td>\n",
       "      <td>28.9</td>\n",
       "      <td>880</td>\n",
       "    </tr>\n",
       "    <tr>\n",
       "      <td>2</td>\n",
       "      <td>1</td>\n",
       "      <td>1</td>\n",
       "      <td>1</td>\n",
       "      <td>1</td>\n",
       "      <td>2</td>\n",
       "      <td>27.63</td>\n",
       "      <td>2263.18</td>\n",
       "      <td>8.61</td>\n",
       "      <td>32.50</td>\n",
       "      <td>27.41</td>\n",
       "      <td>602</td>\n",
       "    </tr>\n",
       "    <tr>\n",
       "      <td>3</td>\n",
       "      <td>1</td>\n",
       "      <td>1</td>\n",
       "      <td>1</td>\n",
       "      <td>1</td>\n",
       "      <td>3</td>\n",
       "      <td>27.53</td>\n",
       "      <td>2775.35</td>\n",
       "      <td>10.08</td>\n",
       "      <td>35.71</td>\n",
       "      <td>27.6</td>\n",
       "      <td>647</td>\n",
       "    </tr>\n",
       "    <tr>\n",
       "      <td>4</td>\n",
       "      <td>1</td>\n",
       "      <td>1</td>\n",
       "      <td>1</td>\n",
       "      <td>1</td>\n",
       "      <td>4</td>\n",
       "      <td>27.41</td>\n",
       "      <td>2875.56</td>\n",
       "      <td>10.15</td>\n",
       "      <td>36.63</td>\n",
       "      <td>26.93</td>\n",
       "      <td>905</td>\n",
       "    </tr>\n",
       "  </tbody>\n",
       "</table>\n",
       "</div>"
      ],
      "text/plain": [
       "   Month_code  Birthplace_code  Delivery_method_code  Fetal_presentation_code  \\\n",
       "0           1                1                     1                        1   \n",
       "1           1                1                     1                        1   \n",
       "2           1                1                     1                        1   \n",
       "3           1                1                     1                        1   \n",
       "4           1                1                     1                        1   \n",
       "\n",
       "   Five_min_APGAR_score_code  Average_Age_Mother_years  \\\n",
       "0                          0                     27.78   \n",
       "1                          1                     27.87   \n",
       "2                          2                     27.63   \n",
       "3                          3                     27.53   \n",
       "4                          4                     27.41   \n",
       "\n",
       "   Average_Birth_Weight_grams  Average_Prenatal_Visits  \\\n",
       "0                     1948.11                     8.06   \n",
       "1                     1354.81                     6.65   \n",
       "2                     2263.18                     8.61   \n",
       "3                     2775.35                    10.08   \n",
       "4                     2875.56                    10.15   \n",
       "\n",
       "   Average_OE_Gestational_Age_weeks Average_Pre-pregnancy_BMI  Births  \n",
       "0                             30.03                     27.83     172  \n",
       "1                             26.65                      28.9     880  \n",
       "2                             32.50                     27.41     602  \n",
       "3                             35.71                      27.6     647  \n",
       "4                             36.63                     26.93     905  "
      ]
     },
     "execution_count": 13,
     "metadata": {},
     "output_type": "execute_result"
    }
   ],
   "source": [
    "q3 = pd.read_csv('machine_learn_data/Q3_delivery_char_v6.csv')\n",
    "q3.head()"
   ]
  },
  {
   "cell_type": "code",
   "execution_count": 14,
   "metadata": {},
   "outputs": [
    {
     "data": {
      "text/plain": [
       "Month_code                          6158\n",
       "Birthplace_code                     6158\n",
       "Delivery_method_code                6158\n",
       "Fetal_presentation_code             6158\n",
       "Five_min_APGAR_score_code           6158\n",
       "Average_Age_Mother_years            6158\n",
       "Average_Birth_Weight_grams          6158\n",
       "Average_Prenatal_Visits             5876\n",
       "Average_OE_Gestational_Age_weeks    6043\n",
       "Average_Pre-pregnancy_BMI           6158\n",
       "Births                              6158\n",
       "dtype: int64"
      ]
     },
     "execution_count": 14,
     "metadata": {},
     "output_type": "execute_result"
    }
   ],
   "source": [
    "q3.count()"
   ]
  },
  {
   "cell_type": "code",
   "execution_count": 16,
   "metadata": {},
   "outputs": [
    {
     "data": {
      "text/plain": [
       "Month_code                          5824\n",
       "Birthplace_code                     5824\n",
       "Delivery_method_code                5824\n",
       "Fetal_presentation_code             5824\n",
       "Five_min_APGAR_score_code           5824\n",
       "Average_Age_Mother_years            5824\n",
       "Average_Birth_Weight_grams          5824\n",
       "Average_Prenatal_Visits             5824\n",
       "Average_OE_Gestational_Age_weeks    5824\n",
       "Average_Pre-pregnancy_BMI           5824\n",
       "Births                              5824\n",
       "dtype: int64"
      ]
     },
     "execution_count": 16,
     "metadata": {},
     "output_type": "execute_result"
    }
   ],
   "source": [
    "clean_q3 = q3.dropna()\n",
    "clean_q3.count()"
   ]
  },
  {
   "cell_type": "code",
   "execution_count": 17,
   "metadata": {},
   "outputs": [],
   "source": [
    "clean_q3.to_csv(\"machine_learn_data/final_clean_data/Q3_delivery_char_v7.csv\", index=False)"
   ]
  }
 ],
 "metadata": {
  "kernelspec": {
   "display_name": "Python 3",
   "language": "python",
   "name": "python3"
  },
  "language_info": {
   "codemirror_mode": {
    "name": "ipython",
    "version": 3
   },
   "file_extension": ".py",
   "mimetype": "text/x-python",
   "name": "python",
   "nbconvert_exporter": "python",
   "pygments_lexer": "ipython3",
   "version": "3.7.3"
  }
 },
 "nbformat": 4,
 "nbformat_minor": 2
}
