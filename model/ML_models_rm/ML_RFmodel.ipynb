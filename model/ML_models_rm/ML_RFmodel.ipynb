{
 "cells": [
  {
   "cell_type": "code",
   "execution_count": 36,
   "metadata": {},
   "outputs": [],
   "source": [
    "from sklearn.ensemble import RandomForestClassifier\n"
   ]
  },
  {
   "cell_type": "code",
   "execution_count": 51,
   "metadata": {},
   "outputs": [],
   "source": [
    "import pandas as pd\n",
    "import os\n",
    "import matplotlib.pyplot as plt\n",
    "import seaborn as sns; sns.set()\n",
    "import numpy as np"
   ]
  },
  {
   "cell_type": "code",
   "execution_count": 12,
   "metadata": {},
   "outputs": [
    {
     "data": {
      "text/html": [
       "<div>\n",
       "<style scoped>\n",
       "    .dataframe tbody tr th:only-of-type {\n",
       "        vertical-align: middle;\n",
       "    }\n",
       "\n",
       "    .dataframe tbody tr th {\n",
       "        vertical-align: top;\n",
       "    }\n",
       "\n",
       "    .dataframe thead th {\n",
       "        text-align: right;\n",
       "    }\n",
       "</style>\n",
       "<table border=\"1\" class=\"dataframe\">\n",
       "  <thead>\n",
       "    <tr style=\"text-align: right;\">\n",
       "      <th></th>\n",
       "      <th>Mother_Education_Code</th>\n",
       "      <th>Mother_Weight_Gain_Code</th>\n",
       "      <th>Pre-pregnancy_Diabetes_Code</th>\n",
       "      <th>Pre-pregnancy_Hypertension_Code</th>\n",
       "      <th>Five_min_APGAR_score_code</th>\n",
       "      <th>Average_Age_Mother_years</th>\n",
       "      <th>Average_Birth_Weight_grams</th>\n",
       "      <th>Average_Prenatal_Visits</th>\n",
       "      <th>Average_OE_Gestational_Age_weeks</th>\n",
       "      <th>Average_Pre-pregnancy_BMI</th>\n",
       "      <th>Births</th>\n",
       "    </tr>\n",
       "  </thead>\n",
       "  <tbody>\n",
       "    <tr>\n",
       "      <td>0</td>\n",
       "      <td>1.0</td>\n",
       "      <td>0.0</td>\n",
       "      <td>1.0</td>\n",
       "      <td>1.0</td>\n",
       "      <td>3.0</td>\n",
       "      <td>36.0</td>\n",
       "      <td>830.0</td>\n",
       "      <td>3.0</td>\n",
       "      <td>24.0</td>\n",
       "      <td>45.2</td>\n",
       "      <td>1.0</td>\n",
       "    </tr>\n",
       "    <tr>\n",
       "      <td>1</td>\n",
       "      <td>1.0</td>\n",
       "      <td>0.0</td>\n",
       "      <td>1.0</td>\n",
       "      <td>1.0</td>\n",
       "      <td>6.0</td>\n",
       "      <td>39.0</td>\n",
       "      <td>791.0</td>\n",
       "      <td>0.0</td>\n",
       "      <td>23.0</td>\n",
       "      <td>32.4</td>\n",
       "      <td>1.0</td>\n",
       "    </tr>\n",
       "    <tr>\n",
       "      <td>2</td>\n",
       "      <td>1.0</td>\n",
       "      <td>0.0</td>\n",
       "      <td>1.0</td>\n",
       "      <td>1.0</td>\n",
       "      <td>7.0</td>\n",
       "      <td>36.0</td>\n",
       "      <td>3560.0</td>\n",
       "      <td>20.0</td>\n",
       "      <td>37.0</td>\n",
       "      <td>38.6</td>\n",
       "      <td>1.0</td>\n",
       "    </tr>\n",
       "    <tr>\n",
       "      <td>3</td>\n",
       "      <td>1.0</td>\n",
       "      <td>0.0</td>\n",
       "      <td>1.0</td>\n",
       "      <td>1.0</td>\n",
       "      <td>8.0</td>\n",
       "      <td>35.2</td>\n",
       "      <td>2890.8</td>\n",
       "      <td>9.3</td>\n",
       "      <td>36.7</td>\n",
       "      <td>38.0</td>\n",
       "      <td>6.0</td>\n",
       "    </tr>\n",
       "    <tr>\n",
       "      <td>4</td>\n",
       "      <td>1.0</td>\n",
       "      <td>0.0</td>\n",
       "      <td>1.0</td>\n",
       "      <td>1.0</td>\n",
       "      <td>9.0</td>\n",
       "      <td>36.0</td>\n",
       "      <td>3041.7</td>\n",
       "      <td>15.6</td>\n",
       "      <td>38.1</td>\n",
       "      <td>39.8</td>\n",
       "      <td>26.0</td>\n",
       "    </tr>\n",
       "  </tbody>\n",
       "</table>\n",
       "</div>"
      ],
      "text/plain": [
       "   Mother_Education_Code  Mother_Weight_Gain_Code  \\\n",
       "0                    1.0                      0.0   \n",
       "1                    1.0                      0.0   \n",
       "2                    1.0                      0.0   \n",
       "3                    1.0                      0.0   \n",
       "4                    1.0                      0.0   \n",
       "\n",
       "   Pre-pregnancy_Diabetes_Code  Pre-pregnancy_Hypertension_Code  \\\n",
       "0                          1.0                              1.0   \n",
       "1                          1.0                              1.0   \n",
       "2                          1.0                              1.0   \n",
       "3                          1.0                              1.0   \n",
       "4                          1.0                              1.0   \n",
       "\n",
       "   Five_min_APGAR_score_code  Average_Age_Mother_years  \\\n",
       "0                        3.0                      36.0   \n",
       "1                        6.0                      39.0   \n",
       "2                        7.0                      36.0   \n",
       "3                        8.0                      35.2   \n",
       "4                        9.0                      36.0   \n",
       "\n",
       "   Average_Birth_Weight_grams  Average_Prenatal_Visits  \\\n",
       "0                       830.0                      3.0   \n",
       "1                       791.0                      0.0   \n",
       "2                      3560.0                     20.0   \n",
       "3                      2890.8                      9.3   \n",
       "4                      3041.7                     15.6   \n",
       "\n",
       "   Average_OE_Gestational_Age_weeks  Average_Pre-pregnancy_BMI  Births  \n",
       "0                              24.0                       45.2     1.0  \n",
       "1                              23.0                       32.4     1.0  \n",
       "2                              37.0                       38.6     1.0  \n",
       "3                              36.7                       38.0     6.0  \n",
       "4                              38.1                       39.8    26.0  "
      ]
     },
     "execution_count": 12,
     "metadata": {},
     "output_type": "execute_result"
    }
   ],
   "source": [
    "df = pd.read_csv(os.path.join(\"Q1_maternal_char_v7.csv\"))\n",
    "df.head()"
   ]
  },
  {
   "cell_type": "code",
   "execution_count": 52,
   "metadata": {},
   "outputs": [],
   "source": [
    "#ax1 = df.plot.scatter(x='Five_min_APGAR_score_code', y='Average_Age_Mother_years',c='blue')\n",
    "#ax1.set_xlim(-1,11)"
   ]
  },
  {
   "cell_type": "code",
   "execution_count": 53,
   "metadata": {},
   "outputs": [],
   "source": [
    "#ax2 = df.plot.scatter(x='Five_min_APGAR_score_code', y='Average_Birth_Weight_grams',c='red')\n",
    "#ax2.set_xlim(-1,11)"
   ]
  },
  {
   "cell_type": "code",
   "execution_count": 54,
   "metadata": {},
   "outputs": [],
   "source": [
    "#ax3 = df.plot.scatter(x='Five_min_APGAR_score_code', y='Average_Pre-pregnancy_BMI',c='purple')\n",
    "#ax3.set_xlim(-1,11) "
   ]
  },
  {
   "cell_type": "code",
   "execution_count": 55,
   "metadata": {},
   "outputs": [],
   "source": [
    "#ax4 = df.plot.scatter(x='Five_min_APGAR_score_code', y='Average_Prenatal_Visits',c='green')\n",
    "#ax4.set_xlim(-1,11)"
   ]
  },
  {
   "cell_type": "code",
   "execution_count": 56,
   "metadata": {},
   "outputs": [],
   "source": [
    "#data = df.drop(\"Five_min_APGAR_score_code\", axis=1)\n",
    "#feature_names = data.columns\n",
    "#data.head()"
   ]
  },
  {
   "cell_type": "code",
   "execution_count": 77,
   "metadata": {},
   "outputs": [
    {
     "data": {
      "text/html": [
       "<div>\n",
       "<style scoped>\n",
       "    .dataframe tbody tr th:only-of-type {\n",
       "        vertical-align: middle;\n",
       "    }\n",
       "\n",
       "    .dataframe tbody tr th {\n",
       "        vertical-align: top;\n",
       "    }\n",
       "\n",
       "    .dataframe thead th {\n",
       "        text-align: right;\n",
       "    }\n",
       "</style>\n",
       "<table border=\"1\" class=\"dataframe\">\n",
       "  <thead>\n",
       "    <tr style=\"text-align: right;\">\n",
       "      <th></th>\n",
       "      <th>Five_min_APGAR_score_code</th>\n",
       "      <th>Mother_Education_Code</th>\n",
       "      <th>Mother_Weight_Gain_Code</th>\n",
       "      <th>Pre-pregnancy_Diabetes_Code</th>\n",
       "      <th>Pre-pregnancy_Hypertension_Code</th>\n",
       "      <th>Average_Age_Mother_years</th>\n",
       "      <th>Average_Birth_Weight_grams</th>\n",
       "      <th>Average_Prenatal_Visits</th>\n",
       "      <th>Average_Prenatal_Visits</th>\n",
       "      <th>Average_OE_Gestational_Age_weeks</th>\n",
       "      <th>Average_Pre-pregnancy_BMI</th>\n",
       "    </tr>\n",
       "  </thead>\n",
       "  <tbody>\n",
       "    <tr>\n",
       "      <td>0</td>\n",
       "      <td>3.0</td>\n",
       "      <td>1.0</td>\n",
       "      <td>0.0</td>\n",
       "      <td>1.0</td>\n",
       "      <td>1.0</td>\n",
       "      <td>36.0</td>\n",
       "      <td>830.0</td>\n",
       "      <td>3.0</td>\n",
       "      <td>3.0</td>\n",
       "      <td>24.0</td>\n",
       "      <td>45.2</td>\n",
       "    </tr>\n",
       "    <tr>\n",
       "      <td>1</td>\n",
       "      <td>6.0</td>\n",
       "      <td>1.0</td>\n",
       "      <td>0.0</td>\n",
       "      <td>1.0</td>\n",
       "      <td>1.0</td>\n",
       "      <td>39.0</td>\n",
       "      <td>791.0</td>\n",
       "      <td>0.0</td>\n",
       "      <td>0.0</td>\n",
       "      <td>23.0</td>\n",
       "      <td>32.4</td>\n",
       "    </tr>\n",
       "    <tr>\n",
       "      <td>2</td>\n",
       "      <td>7.0</td>\n",
       "      <td>1.0</td>\n",
       "      <td>0.0</td>\n",
       "      <td>1.0</td>\n",
       "      <td>1.0</td>\n",
       "      <td>36.0</td>\n",
       "      <td>3560.0</td>\n",
       "      <td>20.0</td>\n",
       "      <td>20.0</td>\n",
       "      <td>37.0</td>\n",
       "      <td>38.6</td>\n",
       "    </tr>\n",
       "    <tr>\n",
       "      <td>3</td>\n",
       "      <td>8.0</td>\n",
       "      <td>1.0</td>\n",
       "      <td>0.0</td>\n",
       "      <td>1.0</td>\n",
       "      <td>1.0</td>\n",
       "      <td>35.2</td>\n",
       "      <td>2890.8</td>\n",
       "      <td>9.3</td>\n",
       "      <td>9.3</td>\n",
       "      <td>36.7</td>\n",
       "      <td>38.0</td>\n",
       "    </tr>\n",
       "    <tr>\n",
       "      <td>4</td>\n",
       "      <td>9.0</td>\n",
       "      <td>1.0</td>\n",
       "      <td>0.0</td>\n",
       "      <td>1.0</td>\n",
       "      <td>1.0</td>\n",
       "      <td>36.0</td>\n",
       "      <td>3041.7</td>\n",
       "      <td>15.6</td>\n",
       "      <td>15.6</td>\n",
       "      <td>38.1</td>\n",
       "      <td>39.8</td>\n",
       "    </tr>\n",
       "  </tbody>\n",
       "</table>\n",
       "</div>"
      ],
      "text/plain": [
       "   Five_min_APGAR_score_code  Mother_Education_Code  Mother_Weight_Gain_Code  \\\n",
       "0                        3.0                    1.0                      0.0   \n",
       "1                        6.0                    1.0                      0.0   \n",
       "2                        7.0                    1.0                      0.0   \n",
       "3                        8.0                    1.0                      0.0   \n",
       "4                        9.0                    1.0                      0.0   \n",
       "\n",
       "   Pre-pregnancy_Diabetes_Code  Pre-pregnancy_Hypertension_Code  \\\n",
       "0                          1.0                              1.0   \n",
       "1                          1.0                              1.0   \n",
       "2                          1.0                              1.0   \n",
       "3                          1.0                              1.0   \n",
       "4                          1.0                              1.0   \n",
       "\n",
       "   Average_Age_Mother_years  Average_Birth_Weight_grams  \\\n",
       "0                      36.0                       830.0   \n",
       "1                      39.0                       791.0   \n",
       "2                      36.0                      3560.0   \n",
       "3                      35.2                      2890.8   \n",
       "4                      36.0                      3041.7   \n",
       "\n",
       "   Average_Prenatal_Visits  Average_Prenatal_Visits  \\\n",
       "0                      3.0                      3.0   \n",
       "1                      0.0                      0.0   \n",
       "2                     20.0                     20.0   \n",
       "3                      9.3                      9.3   \n",
       "4                     15.6                     15.6   \n",
       "\n",
       "   Average_OE_Gestational_Age_weeks  Average_Pre-pregnancy_BMI  \n",
       "0                              24.0                       45.2  \n",
       "1                              23.0                       32.4  \n",
       "2                              37.0                       38.6  \n",
       "3                              36.7                       38.0  \n",
       "4                              38.1                       39.8  "
      ]
     },
     "execution_count": 77,
     "metadata": {},
     "output_type": "execute_result"
    }
   ],
   "source": [
    "df1 = df[['Five_min_APGAR_score_code', 'Mother_Education_Code', 'Mother_Weight_Gain_Code','Pre-pregnancy_Diabetes_Code', 'Pre-pregnancy_Hypertension_Code','Average_Age_Mother_years',\n",
    "         'Average_Birth_Weight_grams','Average_Prenatal_Visits', 'Average_Prenatal_Visits','Average_OE_Gestational_Age_weeks',\n",
    "         'Average_Pre-pregnancy_BMI']]\n",
    "df1.head()"
   ]
  },
  {
   "cell_type": "code",
   "execution_count": 78,
   "metadata": {},
   "outputs": [],
   "source": [
    "X = df.iloc[:, 1:10].values\n",
    "y = df.iloc[:, 0].values"
   ]
  },
  {
   "cell_type": "code",
   "execution_count": 79,
   "metadata": {},
   "outputs": [],
   "source": [
    "from sklearn.model_selection import train_test_split\n",
    "\n",
    "X_train, X_test, y_train, y_test = train_test_split(X, y, test_size=0.4, random_state=0)"
   ]
  },
  {
   "cell_type": "code",
   "execution_count": 80,
   "metadata": {},
   "outputs": [],
   "source": [
    "from sklearn.preprocessing import StandardScaler\n",
    "\n",
    "sc = StandardScaler()\n",
    "X_train = sc.fit_transform(X_train)\n",
    "X_test = sc.transform(X_test)"
   ]
  },
  {
   "cell_type": "code",
   "execution_count": 75,
   "metadata": {},
   "outputs": [],
   "source": [
    "model = RandomForestClassifier(n_estimators=200)\n",
    "model.fit(X_train, y_train)\n",
    "ypred = model.predict(X_test)"
   ]
  },
  {
   "cell_type": "code",
   "execution_count": 76,
   "metadata": {},
   "outputs": [
    {
     "name": "stdout",
     "output_type": "stream",
     "text": [
      "              precision    recall  f1-score   support\n",
      "\n",
      "         1.0       0.48      0.51      0.49       721\n",
      "         2.0       0.47      0.51      0.49      1059\n",
      "         3.0       0.52      0.46      0.49      1636\n",
      "         4.0       0.44      0.42      0.43      1398\n",
      "         5.0       0.37      0.42      0.40       972\n",
      "         6.0       0.47      0.45      0.46      1231\n",
      "         7.0       0.46      0.45      0.46       991\n",
      "         8.0       0.50      0.56      0.53       562\n",
      "\n",
      "    accuracy                           0.46      8570\n",
      "   macro avg       0.46      0.47      0.47      8570\n",
      "weighted avg       0.46      0.46      0.46      8570\n",
      "\n"
     ]
    }
   ],
   "source": [
    "from sklearn import metrics\n",
    "print(metrics.classification_report(ypred, y_test))"
   ]
  },
  {
   "cell_type": "code",
   "execution_count": 71,
   "metadata": {},
   "outputs": [
    {
     "data": {
      "image/png": "[encoded data removed]",
      "text/plain": [
       "<Figure size 432x288 with 1 Axes>"
      ]
     },
     "metadata": {},
     "output_type": "display_data"
    }
   ],
   "source": [
    "from sklearn.metrics import confusion_matrix\n",
    "mat = confusion_matrix(y_test, ypred)\n",
    "sns.heatmap(mat.T, square=True, annot=True, fmt='d', cbar=False)\n",
    "plt.xlabel('true label')\n",
    "plt.ylabel('predicted label');"
   ]
  },
  {
   "cell_type": "code",
   "execution_count": 84,
   "metadata": {},
   "outputs": [],
   "source": [
    "from sklearn.ensemble import RandomForestRegressor\n",
    "\n",
    "regressor = RandomForestRegressor(n_estimators=200, random_state=0)\n",
    "regressor.fit(X_train, y_train)\n",
    "y_pred = regressor.predict(X_test)"
   ]
  },
  {
   "cell_type": "code",
   "execution_count": 85,
   "metadata": {},
   "outputs": [
    {
     "name": "stdout",
     "output_type": "stream",
     "text": [
      "              precision    recall  f1-score   support\n",
      "\n",
      "         1.0       0.48      0.51      0.49       721\n",
      "         2.0       0.47      0.51      0.49      1059\n",
      "         3.0       0.52      0.46      0.49      1636\n",
      "         4.0       0.44      0.42      0.43      1398\n",
      "         5.0       0.37      0.42      0.40       972\n",
      "         6.0       0.47      0.45      0.46      1231\n",
      "         7.0       0.46      0.45      0.46       991\n",
      "         8.0       0.50      0.56      0.53       562\n",
      "\n",
      "    accuracy                           0.46      8570\n",
      "   macro avg       0.46      0.47      0.47      8570\n",
      "weighted avg       0.46      0.46      0.46      8570\n",
      "\n"
     ]
    }
   ],
   "source": [
    "from sklearn import metrics\n",
    "print(metrics.classification_report(ypred, y_test))"
   ]
  },
  {
   "cell_type": "code",
   "execution_count": 87,
   "metadata": {},
   "outputs": [
    {
     "name": "stdout",
     "output_type": "stream",
     "text": [
      "Accuracy: 0.46254375729288216\n"
     ]
    }
   ],
   "source": [
    "print(\"Accuracy:\",metrics.accuracy_score(y_test, ypred))"
   ]
  },
  {
   "cell_type": "code",
   "execution_count": 82,
   "metadata": {},
   "outputs": [
    {
     "name": "stdout",
     "output_type": "stream",
     "text": [
      "Mean Absolute Error: 1.0520204200700116\n",
      "Mean Squared Error: 2.2664442444574093\n",
      "Root Mean Squared Error: 1.5054714359486896\n"
     ]
    }
   ],
   "source": [
    "from sklearn import metrics\n",
    "\n",
    "print('Mean Absolute Error:', metrics.mean_absolute_error(y_test, y_pred))\n",
    "print('Mean Squared Error:', metrics.mean_squared_error(y_test, y_pred))\n",
    "print('Root Mean Squared Error:', np.sqrt(metrics.mean_squared_error(y_test, y_pred)))"
   ]
  }
 ],
 "metadata": {
  "kernelspec": {
   "display_name": "Python 3",
   "language": "python",
   "name": "python3"
  },
  "language_info": {
   "codemirror_mode": {
    "name": "ipython",
    "version": 3
   },
   "file_extension": ".py",
   "mimetype": "text/x-python",
   "name": "python",
   "nbconvert_exporter": "python",
   "pygments_lexer": "ipython3",
   "version": "3.7.3"
  }
 },
 "nbformat": 4,
 "nbformat_minor": 2
}
